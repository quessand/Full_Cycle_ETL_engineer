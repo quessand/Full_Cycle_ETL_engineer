{
 "cells": [
  {
   "cell_type": "code",
   "execution_count": 1,
   "metadata": {},
   "outputs": [],
   "source": [
    "import pandas as pd\n",
    "import numpy as np\n",
    "import time\n",
    "import os\n",
    "import sys\n",
    "import warnings"
   ]
  },
  {
   "cell_type": "code",
   "execution_count": 2,
   "metadata": {},
   "outputs": [],
   "source": [
    "warnings.filterwarnings(\"ignore\")"
   ]
  },
  {
   "cell_type": "code",
   "execution_count": 3,
   "metadata": {},
   "outputs": [],
   "source": [
    "project_dir = os.getcwd().rsplit('\\\\',1)[0]\n",
    "sys.path.insert(0, project_dir)\n",
    "\n",
    "from src.utils.database import Database\n",
    "from src.utils.logger import Logger\n",
    "from src.utils.constants import *"
   ]
  },
  {
   "cell_type": "code",
   "execution_count": 4,
   "metadata": {},
   "outputs": [],
   "source": [
    "etl_conn = Database('admin').create_connection()"
   ]
  },
  {
   "cell_type": "code",
   "execution_count": 5,
   "metadata": {},
   "outputs": [],
   "source": [
    "def balance(connection, filename):\n",
    "    df = pd.read_csv(f'./source_data/{filename}', sep=';', dtype={'ACCOUNT_RK':'int64', 'CURRENCY_RK':'int64', 'BALANCE_OUT':'float64'}, parse_dates=['ON_DATE'], dayfirst=True).iloc[: , 1:]\n",
    "    df['ON_DATE'] = pd.to_datetime(df['ON_DATE']).dt.strftime(\"%Y-%m-%d\")\n",
    "\n",
    "    input = ','.join(str(x) for x in [tuple(x) for x in df.to_numpy()])\n",
    "    query = \\\n",
    "        f'''\n",
    "        TRUNCATE TABLE ds.ft_balance_f;\n",
    "        INSERT INTO ds.ft_balance_f (on_date, account_rk, currency_rk, balance_out)\n",
    "        VALUES %s\n",
    "        '''\n",
    "\n",
    "    Logger().upload_start(filename)\n",
    "\n",
    "    try:\n",
    "        connection.cursor().execute(query % input)\n",
    "        time.sleep(5)\n",
    "\n",
    "        connection.commit()\n",
    "        status = 'OK'\n",
    "    except:\n",
    "        status = 'FAILED'\n",
    "        connection.rollback()\n",
    "    finally:\n",
    "        Logger().upload_end(filename, len(df), status)\n",
    "        print(status)"
   ]
  },
  {
   "cell_type": "code",
   "execution_count": 6,
   "metadata": {},
   "outputs": [],
   "source": [
    "def posting(connection, filename):\n",
    "    df = pd.read_csv(f'./source_data/{filename}', sep=';', dtype={'CREDIT_ACCOUNT_RK':'int64', 'DEBET_ACCOUNT_RK':'int64', 'CREDIT_AMOUNT':'float64', 'DEBET_AMOUNT':'float64'}, parse_dates=['OPER_DATE'], dayfirst=True).iloc[: , 1:]\n",
    "    df['OPER_DATE'] = pd.to_datetime(df['OPER_DATE']).dt.strftime(\"%Y-%m-%d\")\n",
    "    df = df.drop_duplicates(subset=['OPER_DATE', 'CREDIT_ACCOUNT_RK', 'DEBET_ACCOUNT_RK'])\n",
    "\n",
    "    input = ','.join(str(x) for x in [tuple(x) for x in df.to_numpy()])\n",
    "    query = \\\n",
    "        f'''\n",
    "        TRUNCATE TABLE ds.ft_posting_f;\n",
    "        INSERT INTO ds.ft_posting_f (oper_date,\tcredit_account_rk, debet_account_rk, credit_amount,\tdebet_amount)\n",
    "        VALUES %s\n",
    "        '''\n",
    "\n",
    "    Logger().upload_start(filename)\n",
    "\n",
    "    try:\n",
    "        connection.cursor().execute(query % input)\n",
    "        connection.commit()\n",
    "        status = 'OK'\n",
    "\n",
    "        time.sleep(5)\n",
    "    except:\n",
    "        status = 'FAILED'\n",
    "        connection.rollback()\n",
    "    finally:\n",
    "        Logger().upload_end(filename, len(df), status)\n",
    "        print(status)"
   ]
  },
  {
   "cell_type": "code",
   "execution_count": 7,
   "metadata": {},
   "outputs": [],
   "source": [
    "def account(connection, filename): \n",
    "    df = pd.read_csv(f'./source_data/{filename}', sep=';', encoding='IBM866', dtype={'CURRENCY_RK':'int64', 'ACCOUNT_NUMBER':'str', 'CHAR_TYPE':'str', 'CURRENCY_RK':'int64', 'CURRENCY_CODE':'str'}, parse_dates=['DATA_ACTUAL_DATE','DATA_ACTUAL_END_DATE'], dayfirst=True, na_values=['   ','NON']).iloc[: , 1:]\n",
    "    df['DATA_ACTUAL_DATE'] = pd.to_datetime(df['DATA_ACTUAL_DATE']).dt.strftime(\"%Y-%m-%d\")\n",
    "    df['DATA_ACTUAL_END_DATE'] = pd.to_datetime(df['DATA_ACTUAL_END_DATE']).dt.strftime(\"%Y-%m-%d\")\n",
    "\n",
    "    input = ','.join(str(x) for x in [tuple(x) for x in df.to_numpy()])\n",
    "    query = \\\n",
    "        f'''\n",
    "        TRUNCATE TABLE ds.md_account_d;\n",
    "        INSERT INTO ds.md_account_d (data_actual_date,data_actual_end_date,account_rk,account_number,char_type,currency_rk,currency_code)\n",
    "        VALUES %s\n",
    "        '''\n",
    "    Logger().upload_start(filename)\n",
    "\n",
    "    try:\n",
    "        connection.cursor().execute(query % input)\n",
    "        connection.commit()\n",
    "        status = 'OK'\n",
    "\n",
    "        time.sleep(5)\n",
    "    except:\n",
    "        status = 'FAILED'\n",
    "        connection.rollback()\n",
    "    finally:\n",
    "        Logger().upload_end(filename, len(df), status)\n",
    "        print(status)"
   ]
  },
  {
   "cell_type": "code",
   "execution_count": 8,
   "metadata": {},
   "outputs": [],
   "source": [
    "def currency(connection, filename):\n",
    "    df = pd.read_csv(f'./source_data/{filename}', sep=';', encoding='IBM866', dtype={'CURRENCY_RK':'int64', 'CURRENCY_CODE':'str', 'CODE_ISO_CHAR':'str'}, parse_dates=['DATA_ACTUAL_DATE','DATA_ACTUAL_END_DATE'], dayfirst=True, na_values=['   ','NON']).iloc[: , 1:]\n",
    "    df['DATA_ACTUAL_DATE'] = pd.to_datetime(df['DATA_ACTUAL_DATE']).dt.strftime(\"%Y-%m-%d\")\n",
    "    df['DATA_ACTUAL_END_DATE'] = pd.to_datetime(df['DATA_ACTUAL_END_DATE']).dt.strftime(\"%Y-%m-%d\")\n",
    "\n",
    "    Logger().upload_start(filename)\n",
    "\n",
    "    connection.cursor().execute('''TRUNCATE TABLE ds.md_currency_d''')\n",
    "    try:\n",
    "        for idx, row in df.iterrows():\n",
    "            element = row.dropna()\n",
    "\n",
    "            columns = list(element.index)\n",
    "            values = tuple(element.values)\n",
    "\n",
    "            query = \\\n",
    "                f'''\n",
    "                INSERT INTO ds.md_currency_d ({','.join(str(x) for x in columns)})\n",
    "                VALUES {values}\n",
    "                '''\n",
    "            #print(query)\n",
    "            connection.cursor().execute(query)\n",
    "            connection.commit()\n",
    "        status = 'OK'\n",
    "\n",
    "        time.sleep(5)\n",
    "    except:\n",
    "        status = 'FAILED'\n",
    "        connection.rollback()\n",
    "    finally:\n",
    "        Logger().upload_end(filename, len(df), status)\n",
    "        print(status)"
   ]
  },
  {
   "cell_type": "code",
   "execution_count": 9,
   "metadata": {},
   "outputs": [],
   "source": [
    "def exchange(connection, filename):\n",
    "    df = pd.read_csv(f'./source_data/{filename}', sep=';', dtype={'CURRENCY_RK':'int64', 'REDUCED_COURCE\t':'float64', 'CODE_ISO_CHAR':'str'}, parse_dates=['DATA_ACTUAL_DATE','DATA_ACTUAL_END_DATE'], dayfirst=True).iloc[: , 1:]\n",
    "    df = df.drop_duplicates(subset=['DATA_ACTUAL_DATE', 'CURRENCY_RK'])\n",
    "    df['DATA_ACTUAL_DATE'] = pd.to_datetime(df['DATA_ACTUAL_DATE']).dt.strftime(\"%Y-%m-%d\")\n",
    "    df['DATA_ACTUAL_END_DATE'] = pd.to_datetime(df['DATA_ACTUAL_END_DATE']).dt.strftime(\"%Y-%m-%d\")\n",
    "\n",
    "    input = ','.join(str(x) for x in [tuple(x) for x in df.to_numpy()])\n",
    "    query = \\\n",
    "        f'''\n",
    "        TRUNCATE TABLE ds.md_exchange_rate_d;\n",
    "        INSERT INTO ds.md_exchange_rate_d (data_actual_date,data_actual_end_date,currency_rk,reduced_cource,code_iso_num)\n",
    "        VALUES %s\n",
    "        '''\n",
    "\n",
    "    Logger().upload_start(filename)\n",
    "\n",
    "    try:\n",
    "        connection.cursor().execute(query % input)\n",
    "        connection.commit()\n",
    "        status = 'OK'\n",
    "\n",
    "        time.sleep(5)\n",
    "    except:\n",
    "        status = 'FAILED'\n",
    "        connection.rollback()\n",
    "    finally:\n",
    "        Logger().upload_end(filename, len(df), status)\n",
    "        print(status)"
   ]
  },
  {
   "cell_type": "code",
   "execution_count": 10,
   "metadata": {},
   "outputs": [],
   "source": [
    "def ledger(connection, filename):\n",
    "    df = pd.read_csv(f'./source_data/{filename}', sep=';', encoding='IBM866', dtype={'PAIR_ACCOUNT':'str'}, parse_dates=['START_DATE','END_DATE']).iloc[: , 1:]\n",
    "    df['START_DATE'] = pd.to_datetime(df['START_DATE']).dt.strftime(\"%Y-%m-%d\")\n",
    "    df['END_DATE'] = pd.to_datetime(df['END_DATE']).dt.strftime(\"%Y-%m-%d\")\n",
    "\n",
    "    Logger().upload_start(filename)\n",
    "\n",
    "    connection.cursor().execute('''TRUNCATE TABLE ds.md_ledger_account_s''')\n",
    "    try:\n",
    "        for idx, row in df.iterrows():\n",
    "            element = row.dropna()\n",
    "\n",
    "            columns = list(element.index)\n",
    "            values = tuple(element.values)\n",
    "\n",
    "            query = \\\n",
    "                f'''\n",
    "                INSERT INTO ds.md_ledger_account_s ({','.join(str(x) for x in columns)})\n",
    "                VALUES {values}\n",
    "                '''\n",
    "            connection.cursor().execute(query)\n",
    "            connection.commit()\n",
    "        status = 'OK'\n",
    "\n",
    "        time.sleep(5)\n",
    "    except:\n",
    "        status = 'FAILED'\n",
    "        connection.rollback()\n",
    "    finally:\n",
    "        Logger().upload_end(filename, len(df), status)\n",
    "        print(status)"
   ]
  },
  {
   "cell_type": "code",
   "execution_count": 18,
   "metadata": {},
   "outputs": [
    {
     "name": "stdout",
     "output_type": "stream",
     "text": [
      "OK\n"
     ]
    }
   ],
   "source": [
    "balance(etl_conn, 'ft_balance_f.csv')"
   ]
  },
  {
   "cell_type": "code",
   "execution_count": 12,
   "metadata": {},
   "outputs": [
    {
     "name": "stdout",
     "output_type": "stream",
     "text": [
      "OK\n"
     ]
    }
   ],
   "source": [
    "posting(etl_conn, 'ft_posting_f.csv')"
   ]
  },
  {
   "cell_type": "code",
   "execution_count": 13,
   "metadata": {},
   "outputs": [
    {
     "name": "stdout",
     "output_type": "stream",
     "text": [
      "OK\n"
     ]
    }
   ],
   "source": [
    "account(etl_conn, 'md_account_d.csv')"
   ]
  },
  {
   "cell_type": "code",
   "execution_count": 14,
   "metadata": {},
   "outputs": [
    {
     "name": "stdout",
     "output_type": "stream",
     "text": [
      "OK\n"
     ]
    }
   ],
   "source": [
    "currency(etl_conn, 'md_currency_d.csv')"
   ]
  },
  {
   "cell_type": "code",
   "execution_count": 15,
   "metadata": {},
   "outputs": [
    {
     "name": "stdout",
     "output_type": "stream",
     "text": [
      "OK\n"
     ]
    }
   ],
   "source": [
    "exchange(etl_conn, 'md_exchange_rate_d.csv')"
   ]
  },
  {
   "cell_type": "code",
   "execution_count": 16,
   "metadata": {},
   "outputs": [
    {
     "name": "stdout",
     "output_type": "stream",
     "text": [
      "OK\n"
     ]
    }
   ],
   "source": [
    "ledger(etl_conn, 'md_ledger_account_s.csv')"
   ]
  },
  {
   "cell_type": "code",
   "execution_count": 17,
   "metadata": {},
   "outputs": [],
   "source": [
    "etl_conn.close()"
   ]
  }
 ],
 "metadata": {
  "kernelspec": {
   "display_name": "Python 3.11.5 ('base')",
   "language": "python",
   "name": "python3"
  },
  "language_info": {
   "codemirror_mode": {
    "name": "ipython",
    "version": 3
   },
   "file_extension": ".py",
   "mimetype": "text/x-python",
   "name": "python",
   "nbconvert_exporter": "python",
   "pygments_lexer": "ipython3",
   "version": "3.11.5"
  },
  "orig_nbformat": 4,
  "vscode": {
   "interpreter": {
    "hash": "1680b3e8c43e8004cb1b77b7341a772d9711db16fb670fb31b446edd1c0eb58e"
   }
  }
 },
 "nbformat": 4,
 "nbformat_minor": 2
}
